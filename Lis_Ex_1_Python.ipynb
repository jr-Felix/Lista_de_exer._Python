{
  "nbformat": 4,
  "nbformat_minor": 0,
  "metadata": {
    "colab": {
      "provenance": [],
      "authorship_tag": "ABX9TyN7FWXWboARekTvBSkyJreG"
    },
    "kernelspec": {
      "name": "python3",
      "display_name": "Python 3"
    },
    "language_info": {
      "name": "python"
    }
  },
  "cells": [
    {
      "cell_type": "markdown",
      "source": [
        "1º – Lista."
      ],
      "metadata": {
        "id": "LVGI_OwbgfA9"
      }
    },
    {
      "cell_type": "markdown",
      "source": [
        "TIPOS PRIMITIVOS (10 exercícios)"
      ],
      "metadata": {
        "id": "1YQnujePgymM"
      }
    },
    {
      "cell_type": "code",
      "source": [
        "# 01). Crie uma variável nome e atribua seu nome a ela. Use type() para imprimir o tipo dessa variável.\n",
        "nome = \"Felix\"\n",
        "print(nome)\n",
        "print(type(nome))"
      ],
      "metadata": {
        "colab": {
          "base_uri": "https://localhost:8080/"
        },
        "id": "iT_zwWgJgmwF",
        "outputId": "032adb1d-5c32-4daa-eeb2-977744fc9643"
      },
      "execution_count": null,
      "outputs": [
        {
          "output_type": "stream",
          "name": "stdout",
          "text": [
            "Felix\n",
            "<class 'str'>\n"
          ]
        }
      ]
    },
    {
      "cell_type": "code",
      "source": [
        "# 02). Atribua um número inteiro à variável idade e exiba seu tipo.\n",
        "idade = 40\n",
        "print(idade)\n",
        "print(type(idade))"
      ],
      "metadata": {
        "colab": {
          "base_uri": "https://localhost:8080/"
        },
        "id": "nf1ZpxcehjUw",
        "outputId": "acc44722-f557-4aee-e6af-9d259f0f0e8c"
      },
      "execution_count": null,
      "outputs": [
        {
          "output_type": "stream",
          "name": "stdout",
          "text": [
            "40\n",
            "<class 'int'>\n"
          ]
        }
      ]
    },
    {
      "cell_type": "code",
      "source": [
        "# 03). Crie uma variável altura com valor decimal (float) e mostre seu tipo.\n",
        "altura = 1.65\n",
        "print(type(altura))"
      ],
      "metadata": {
        "colab": {
          "base_uri": "https://localhost:8080/"
        },
        "id": "LZn11fIlh-8s",
        "outputId": "523b7838-e131-403c-bd2e-336a224f7e24"
      },
      "execution_count": null,
      "outputs": [
        {
          "output_type": "stream",
          "name": "stdout",
          "text": [
            "<class 'float'>\n"
          ]
        }
      ]
    },
    {
      "cell_type": "code",
      "source": [
        "# 04). Atribua True a uma variável chamada maior_de_idade. Mostre o tipo dela.\n",
        "maior_de_idade = True\n",
        "print(type(maior_de_idade))"
      ],
      "metadata": {
        "colab": {
          "base_uri": "https://localhost:8080/"
        },
        "id": "NHfk9lxwibse",
        "outputId": "bb94c511-1c2c-4bd8-83ef-47673bd8964d"
      },
      "execution_count": null,
      "outputs": [
        {
          "output_type": "stream",
          "name": "stdout",
          "text": [
            "<class 'bool'>\n"
          ]
        }
      ]
    },
    {
      "cell_type": "code",
      "source": [
        "# 05). Crie quatro variáveis com os tipos str, int, float, bool. Mostre todas usando print() com f-string.\n",
        "nome = \"Felix\"\n",
        "idade = 30\n",
        "altura = 1.65\n",
        "verdade = True\n",
        "print(f\"{nome}, {idade}, {altura}, {verdade}\")"
      ],
      "metadata": {
        "colab": {
          "base_uri": "https://localhost:8080/"
        },
        "id": "Fv4udVreit5e",
        "outputId": "52132521-2e08-4e3f-87af-2fac91718a52"
      },
      "execution_count": null,
      "outputs": [
        {
          "output_type": "stream",
          "name": "stdout",
          "text": [
            "Felix, 30, 1.65, True\n"
          ]
        }
      ]
    },
    {
      "cell_type": "code",
      "source": [
        "# 06). Faça um print com f-string dizendo: “João tem 25 anos, mede 1.75m e é maior de idade: True”.\n",
        "nome = \"Joao\"\n",
        "mede = 1.75\n",
        "idade = 30\n",
        "verdade = True\n",
        "print(f\"{nome} tem {idade} anos e mede {mede} de altura, é e maior de idade {verdade} \")"
      ],
      "metadata": {
        "colab": {
          "base_uri": "https://localhost:8080/"
        },
        "id": "7J6WEk5Yjuz_",
        "outputId": "17f27aa0-2f2e-40d2-afe0-990721fb53b3"
      },
      "execution_count": null,
      "outputs": [
        {
          "output_type": "stream",
          "name": "stdout",
          "text": [
            "Joao tem 30 anos e mede 1.75 de altura, é e maior de idade True \n"
          ]
        }
      ]
    },
    {
      "cell_type": "code",
      "source": [
        "# 07). Crie duas variáveis com números e exiba a soma entre eles, mostrando o tipo do resultado.\n",
        "num1 = 25\n",
        "num2 = 35\n",
        "soma = num1 + num2\n",
        "print(soma)\n",
        "print(type(soma))"
      ],
      "metadata": {
        "colab": {
          "base_uri": "https://localhost:8080/"
        },
        "id": "l81oqSpwkvtA",
        "outputId": "d0a88ebe-45f1-4555-e1f0-17da7d2a061d"
      },
      "execution_count": null,
      "outputs": [
        {
          "output_type": "stream",
          "name": "stdout",
          "text": [
            "60\n",
            "<class 'int'>\n"
          ]
        }
      ]
    },
    {
      "cell_type": "code",
      "source": [
        "# 08). Converta um número inteiro para float e mostre o resultado.\n",
        "numero_inteiro = 10\n",
        "numero_float = float(numero_inteiro)\n",
        "print(numero_float)"
      ],
      "metadata": {
        "colab": {
          "base_uri": "https://localhost:8080/"
        },
        "id": "pDLPqh7nlUfK",
        "outputId": "0ab53d7a-0c3b-463a-81f1-b174de98fae4"
      },
      "execution_count": null,
      "outputs": [
        {
          "output_type": "stream",
          "name": "stdout",
          "text": [
            "10.0\n"
          ]
        }
      ]
    },
    {
      "cell_type": "code",
      "source": [
        "# 09). Converta um valor booleano para string e mostre.\n",
        "# Define um valor booleano\n",
        "valor_booleano = True\n",
        "\n",
        "# Converte o valor booleano para string\n",
        "valor_string = str(valor_booleano)\n",
        "\n",
        "# Mostra o resultado\n",
        "print(\"O valor convertido para string é:\", valor_string)"
      ],
      "metadata": {
        "colab": {
          "base_uri": "https://localhost:8080/"
        },
        "id": "x1VYP_S8l5Pt",
        "outputId": "79c7ce6f-434f-4f1b-cca6-76dcb7bed888"
      },
      "execution_count": null,
      "outputs": [
        {
          "output_type": "stream",
          "name": "stdout",
          "text": [
            "True\n"
          ]
        }
      ]
    },
    {
      "cell_type": "code",
      "source": [
        "# 10). Multiplique um número float por um inteiro. Exiba o resultado e o tipo.\n",
        "numero_float = 10.0\n",
        "numero_inteiro = 4\n",
        "resultado = numero_float * numero_inteiro\n",
        "print(resultado)"
      ],
      "metadata": {
        "colab": {
          "base_uri": "https://localhost:8080/"
        },
        "id": "1ARlPIw9msPs",
        "outputId": "596e2818-48e9-4a36-d73e-8ddd1b7f5d00"
      },
      "execution_count": null,
      "outputs": [
        {
          "output_type": "stream",
          "name": "stdout",
          "text": [
            "40.0\n"
          ]
        }
      ]
    }
  ]
}