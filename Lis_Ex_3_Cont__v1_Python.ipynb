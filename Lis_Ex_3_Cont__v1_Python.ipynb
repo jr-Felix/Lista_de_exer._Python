{
  "nbformat": 4,
  "nbformat_minor": 0,
  "metadata": {
    "colab": {
      "provenance": [],
      "authorship_tag": "ABX9TyPxJ0by+dUZe8qqgGZjrsIC"
    },
    "kernelspec": {
      "name": "python3",
      "display_name": "Python 3"
    },
    "language_info": {
      "name": "python"
    }
  },
  "cells": [
    {
      "cell_type": "markdown",
      "source": [
        "3º – Lista - Continuação_v1"
      ],
      "metadata": {
        "id": "pIGoU8iiLfh-"
      }
    },
    {
      "cell_type": "code",
      "source": [
        "# 11). Receba dois valores via input e mostre seus tipos.\n",
        "valor1 = input(\"Digite o primeiro valor: \")\n",
        "valor2 = input(\"Digite o segundo valor: \")\n",
        "print(f\"O valor '{valor1}' é do tipo {type(valor1)}\")\n",
        "print(f\"O valor '{valor2}' é do tipo {type(valor2)}\")"
      ],
      "metadata": {
        "colab": {
          "base_uri": "https://localhost:8080/"
        },
        "id": "9FBYv_pA3K5C",
        "outputId": "1566aa67-ccf5-479a-f210-b6ab25a0c92c"
      },
      "execution_count": null,
      "outputs": [
        {
          "output_type": "stream",
          "name": "stdout",
          "text": [
            "Digite o primeiro valor: 23\n",
            "Digite o segundo valor: 109\n",
            "O valor '23' é do tipo <class 'str'>\n",
            "O valor '109' é do tipo <class 'str'>\n"
          ]
        }
      ]
    },
    {
      "cell_type": "code",
      "source": [
        "# 12). Receba um número como string, depois converta para int e faça uma conta.\n",
        "\n",
        "# Recebe um número como string\n",
        "numero_str = input(\"Digite um número: \")\n",
        "\n",
        "# Converte a string para inteiro\n",
        "numero_int = int(numero_str)\n",
        "\n",
        "# Faz uma conta (ex: multiplicar por 2)\n",
        "resultado = numero_int * 2\n",
        "\n",
        "# Mostra o resultado\n",
        "print(f\"O dobro de {numero_int} é {resultado}.\")"
      ],
      "metadata": {
        "colab": {
          "base_uri": "https://localhost:8080/"
        },
        "id": "VNi03wxF4A2h",
        "outputId": "0f1caeaa-e5e8-42f6-9937-60aeacc09bac"
      },
      "execution_count": null,
      "outputs": [
        {
          "output_type": "stream",
          "name": "stdout",
          "text": [
            "Digite um número: 567\n",
            "O dobro de 567 é 1134.\n"
          ]
        }
      ]
    },
    {
      "cell_type": "code",
      "source": [
        "# 13). Verifique se o valor digitado é alfabético com isalpha().\n",
        "# Recebe um valor via input\n",
        "texto = input(\"Digite algo: \")\n",
        "\n",
        "# Verifica se é alfabético\n",
        "if texto.isalpha(): # isalpha verifica se string são letras do alfabeto\n",
        "    print(\"O valor digitado é alfabético.\")\n",
        "else:\n",
        "    print(\"O valor digitado NÃO é alfabético.\")"
      ],
      "metadata": {
        "colab": {
          "base_uri": "https://localhost:8080/"
        },
        "id": "j4gDZRDM6_gt",
        "outputId": "469f3646-5b0c-4551-b9d4-847f6d627e4a"
      },
      "execution_count": null,
      "outputs": [
        {
          "output_type": "stream",
          "name": "stdout",
          "text": [
            "Digite algo: sdedrftgyh\n",
            "O valor digitado é alfabético.\n"
          ]
        }
      ]
    },
    {
      "cell_type": "code",
      "source": [
        "# 14). Verifique se o valor digitado é numérico com isnumeric().\n",
        "\n",
        "# Recebe um valor via input\n",
        "texto = input(\"Digite algo: \")\n",
        "\n",
        "# Verifica se é numérico\n",
        "if texto.isnumeric(): # é utilizada para verificar se uma string representa um número.\n",
        "    print(\"O valor digitado é numérico.\")\n",
        "else:\n",
        "    print(\"O valor digitado NÃO é numérico.\")"
      ],
      "metadata": {
        "id": "q9mglnup8xBo",
        "colab": {
          "base_uri": "https://localhost:8080/"
        },
        "outputId": "cac4c85a-7baa-4c56-edee-da585d6792b3"
      },
      "execution_count": null,
      "outputs": [
        {
          "output_type": "stream",
          "name": "stdout",
          "text": [
            "Digite algo: 13589\n",
            "O valor digitado é numérico.\n"
          ]
        }
      ]
    },
    {
      "cell_type": "code",
      "source": [
        "# 15). Receba um número inteiro e mostre seu dobro como float.\n",
        "numero_int = int(input(\"Digite um numero: \"))\n",
        "dobro = float(numero_int)\n",
        "print(f\"numero recebido {numero_int}, seu dobro é {dobro}\")"
      ],
      "metadata": {
        "colab": {
          "base_uri": "https://localhost:8080/"
        },
        "id": "VB9oBNbmDq_z",
        "outputId": "f775b205-28fe-4b49-dd6b-e51484348bd3"
      },
      "execution_count": null,
      "outputs": [
        {
          "output_type": "stream",
          "name": "stdout",
          "text": [
            "Digite um numero: 25\n",
            "numero recebido 25, seu dobro é 25.0\n"
          ]
        }
      ]
    },
    {
      "cell_type": "code",
      "source": [
        "# 16). Receba uma string e mostre seu tamanho com len().\n",
        "# Recebe uma string do usuário\n",
        "texto = input(\"Digite uma frase ou palavra: \")\n",
        "\n",
        "# Mostra o tamanho da string usando len()\n",
        "print(\"O tamanho da string é:\", len(texto)) # ele conta os espaços tambem."
      ],
      "metadata": {
        "colab": {
          "base_uri": "https://localhost:8080/"
        },
        "id": "iOrwPjNwFSyl",
        "outputId": "d5239ec1-3997-4952-d500-6453ecf15b4c"
      },
      "execution_count": null,
      "outputs": [
        {
          "output_type": "stream",
          "name": "stdout",
          "text": [
            "Digite uma frase ou palavra: sao paulo\n",
            "O tamanho da string é: 9\n"
          ]
        }
      ]
    },
    {
      "cell_type": "code",
      "source": [
        "# 17). Receba uma frase e diga se começa com letra maiúscula.\n",
        "# Recebe uma frase do usuário\n",
        "frase = input(\"Digite uma frase: \")\n",
        "\n",
        "# Verifica se a primeira letra é maiúscula\n",
        "if frase[0].isupper():\n",
        "    print(\"A frase começa com letra maiúscula.\")\n",
        "else:\n",
        "    print(\"A frase não começa com letra maiúscula.\")"
      ],
      "metadata": {
        "id": "5hH6gLSaGGg-",
        "colab": {
          "base_uri": "https://localhost:8080/"
        },
        "outputId": "be16aa02-707a-4017-ff1b-11ba99dfe9d1"
      },
      "execution_count": null,
      "outputs": [
        {
          "output_type": "stream",
          "name": "stdout",
          "text": [
            "Digite uma frase: Educacao\n",
            "A frase começa com letra maiúscula.\n"
          ]
        }
      ]
    },
    {
      "cell_type": "code",
      "source": [
        "# EXERCÍCIO COM ERRO.\n",
        "# 18). Receba um valor e diga se é considerado \"True\" no Python.\n",
        "# Recebe um valor do usuário\n",
        "\n",
        "#valor = input(\"Digite um valor: \")\n",
        "# Verifica se o valor é considerado True ou False em Python\n",
        "#if bool(valor):\n",
        "    #print(\"O valor é considerado True no Python.\")\n",
        "#else:\n",
        "   # print(\"O valor é considerado False no Python.\")"
      ],
      "metadata": {
        "id": "yMO2okAqJteg"
      },
      "execution_count": null,
      "outputs": []
    },
    {
      "cell_type": "code",
      "source": [
        "# 19). Converta um número decimal em string e mostre o tipo.\n",
        "# Recebe um número decimal\n",
        "numero = float(input(\"Digite um número decimal: \"))\n",
        "\n",
        "# Converte o número para string\n",
        "numero_str = str(numero)\n",
        "\n",
        "# Mostra o valor convertido e o tipo\n",
        "print(\"Valor convertido:\", numero_str)\n",
        "print(\"Tipo:\", type(numero_str))"
      ],
      "metadata": {
        "colab": {
          "base_uri": "https://localhost:8080/"
        },
        "id": "vdh0dYT-MVG2",
        "outputId": "6b8c38b4-da88-4d4d-c8e0-9e0bc0f63f91"
      },
      "execution_count": null,
      "outputs": [
        {
          "output_type": "stream",
          "name": "stdout",
          "text": [
            "Digite um número decimal: 10\n",
            "Valor convertido: 10.0\n",
            "Tipo: <class 'str'>\n"
          ]
        }
      ]
    },
    {
      "cell_type": "code",
      "source": [
        "# 20). Receba uma palavra e mostre se ela está em maiúsculo ou minúsculo.\n",
        "# palavra = input(\"Digite uma palavra: \")\n",
        "\n",
        "# if palavra.isupper(): # verifica se maiuscula\n",
        "    #print(\"A palavra está em MAIÚSCULAS.\")\n",
        "#elif palavra.islower(): # verifica se minuscula\n",
        "    #print(\"A palavra está em minúsculas.\")\n",
        "#else:\n",
        "    # print(\"A palavra contém mistura de maiúsculas e minúsculas.\")\n",
        "\n",
        "palavra = input(\"Digite uma palavra \")\n",
        "\n",
        "if palavra.isupper(): # verifica se maiuscula\n",
        "  print(\"A palavra está em MAIUSCULA\")\n",
        "\n",
        "elif palavra.islower(): # verifica se minuscula\n",
        "  print(\"A palavra está em minuscula\")"
      ],
      "metadata": {
        "colab": {
          "base_uri": "https://localhost:8080/"
        },
        "id": "AT6gM9drY8GY",
        "outputId": "de6a1f70-a474-41f6-e042-4fadce81cfd5"
      },
      "execution_count": null,
      "outputs": [
        {
          "output_type": "stream",
          "name": "stdout",
          "text": [
            "Digite uma palavra ASEDRF\n",
            "A palavra está em MAIUSCULA\n"
          ]
        }
      ]
    }
  ]
}