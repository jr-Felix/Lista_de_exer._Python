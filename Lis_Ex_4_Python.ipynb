{
  "nbformat": 4,
  "nbformat_minor": 0,
  "metadata": {
    "colab": {
      "provenance": [],
      "authorship_tag": "ABX9TyNG9RDMXi2YkkbXonQHjFUQ"
    },
    "kernelspec": {
      "name": "python3",
      "display_name": "Python 3"
    },
    "language_info": {
      "name": "python"
    }
  },
  "cells": [
    {
      "cell_type": "markdown",
      "source": [
        "4º – Lista"
      ],
      "metadata": {
        "id": "ywfTwebLgtVf"
      }
    },
    {
      "cell_type": "markdown",
      "source": [
        "Parte 2 – Print e Input (20 exercícios)"
      ],
      "metadata": {
        "id": "JJJQyD7ngxiI"
      }
    },
    {
      "cell_type": "markdown",
      "source": [
        "Focar em entrada e saída de dados com personalização de mensagens."
      ],
      "metadata": {
        "id": "UoOyQ7-pg4IH"
      }
    },
    {
      "cell_type": "code",
      "source": [
        "# 01). Peça o nome do usuário e diga \"Olá, [nome]\".\n",
        "nome = input(\"Qual é o seu nome: \")\n",
        "print(f\"Olá, {nome}\")"
      ],
      "metadata": {
        "colab": {
          "base_uri": "https://localhost:8080/"
        },
        "id": "NANVPA1ag9zV",
        "outputId": "d98d129d-8ff1-4c5d-f63a-9d9e90131cd7"
      },
      "execution_count": null,
      "outputs": [
        {
          "output_type": "stream",
          "name": "stdout",
          "text": [
            "Qual é o seu nome: Felix\n",
            "Olá, Felix\n"
          ]
        }
      ]
    },
    {
      "cell_type": "code",
      "source": [
        "# 02). Peça a idade e diga \"Você tem X anos\".\n",
        "idade = int(input(\"Qual é a sua idade: \"))\n",
        "print(f\"Você tem {idade} anos\")"
      ],
      "metadata": {
        "colab": {
          "base_uri": "https://localhost:8080/"
        },
        "id": "1OfoBrJmhSV9",
        "outputId": "c5abab16-5798-470c-bc2d-ffdc8991db36"
      },
      "execution_count": null,
      "outputs": [
        {
          "output_type": "stream",
          "name": "stdout",
          "text": [
            "Qual é a sua idade: 23\n",
            "Você tem 23 anos\n"
          ]
        }
      ]
    },
    {
      "cell_type": "code",
      "source": [
        "# 03). Receba dois números e mostre os dois.\n",
        "num1 = int(input(\"Digite um número: \"))\n",
        "num2 = int(input(\"Digite outro número: \"))\n",
        "print(F\"Os numeros digitados foram {num1} e {num2}\")"
      ],
      "metadata": {
        "colab": {
          "base_uri": "https://localhost:8080/"
        },
        "id": "GK9V_kdIhsMU",
        "outputId": "a80b2d20-c1ca-4f00-e445-4fe78132b708"
      },
      "execution_count": null,
      "outputs": [
        {
          "output_type": "stream",
          "name": "stdout",
          "text": [
            "Digite um número: 27\n",
            "Digite outro número: 87\n",
            "Os numeros digitados foram 27 e 87\n"
          ]
        }
      ]
    },
    {
      "cell_type": "code",
      "source": [
        "# 04). Faça um print que mostre: \"Seu nome é X e sua idade é Y\".\n",
        "nome = input(\"Qual é o seu nome: \")\n",
        "idade = int(input(\"Qual é a sua idade: \"))\n",
        "print(f\"Seu nome é {nome} e sua idade é {idade}\")"
      ],
      "metadata": {
        "colab": {
          "base_uri": "https://localhost:8080/"
        },
        "id": "Mu57t1BjiizE",
        "outputId": "c86b631b-8868-4c99-d3bd-9d36f4fee216"
      },
      "execution_count": null,
      "outputs": [
        {
          "output_type": "stream",
          "name": "stdout",
          "text": [
            "Qual é o seu nome: Felix\n",
            "Qual é a sua idade: 43\n",
            "Seu nome é Felix e sua idade é 43\n"
          ]
        }
      ]
    },
    {
      "cell_type": "code",
      "source": [
        "# 05). Peça 3 palavras e imprima as 3 separadas por vírgula.\n",
        "palavra1 = input(\"Digite uma palavra: \")\n",
        "palavra2 = input(\"Digite outra palavra: \")\n",
        "palavra3 = input(\"Digite mais uma palavra: \")\n",
        "print(palavra1, palavra2, palavra3, sep=\" , \")"
      ],
      "metadata": {
        "colab": {
          "base_uri": "https://localhost:8080/"
        },
        "id": "eHPhQtfNjP2B",
        "outputId": "63f2eae1-4ee2-4eac-dbc1-b5f0d8be9163"
      },
      "execution_count": null,
      "outputs": [
        {
          "output_type": "stream",
          "name": "stdout",
          "text": [
            "Digite uma palavra: Limao\n",
            "Digite outra palavra: Açucar\n",
            "Digite mais uma palavra: Smirnoff\n",
            "Limao , Açucar , Smirnoff\n"
          ]
        }
      ]
    },
    {
      "cell_type": "code",
      "source": [
        "# 06). Faça um print estilizado com uma borda em volta da frase.\n",
        "# Solicita a frase\n",
        "frase = input(\"Digite uma frase: \")\n",
        "\n",
        "# Define o tamanho da borda baseado no tamanho da frase\n",
        "tamanho = len(frase) + 4\n",
        "\n",
        "# Imprime a borda superior\n",
        "print(\"*\" * tamanho)\n",
        "\n",
        "# Imprime a frase centralizada com bordas laterais\n",
        "print(f\"* {frase} *\")\n",
        "\n",
        "# Imprime a borda inferior\n",
        "print(\"*\" * tamanho)\n"
      ],
      "metadata": {
        "colab": {
          "base_uri": "https://localhost:8080/"
        },
        "id": "d0vvpL8FlhfB",
        "outputId": "afd5026d-29d1-4b59-9d85-7f164d5be234"
      },
      "execution_count": null,
      "outputs": [
        {
          "output_type": "stream",
          "name": "stdout",
          "text": [
            "Digite uma frase: Felix, em SaoPaulo\n",
            "**********************\n",
            "* Felix, em SaoPaulo *\n",
            "**********************\n"
          ]
        }
      ]
    },
    {
      "cell_type": "code",
      "source": [
        "# 07). Mostre no print o resultado de uma operação matemática.\n",
        "num1 = int(input(\"Digite um número: \"))\n",
        "num2 = int(input(\"Digite outro número: \"))\n",
        "print(f\"O resultado da operação é {num1 + num2}\")"
      ],
      "metadata": {
        "colab": {
          "base_uri": "https://localhost:8080/"
        },
        "id": "rvmPGAPEuSR2",
        "outputId": "d7555b13-2b0c-4517-b22e-f82b128bd6ec"
      },
      "execution_count": null,
      "outputs": [
        {
          "output_type": "stream",
          "name": "stdout",
          "text": [
            "Digite um número: 46\n",
            "Digite outro número: 44\n",
            "O resultado da operação é 90\n"
          ]
        }
      ]
    },
    {
      "cell_type": "code",
      "source": [
        "# 08). Crie uma mensagem que mostra o nome em letras maiúsculas.\n",
        "nome = input(\"Qual é seu nome: \")\n",
        "print(f\"{nome.upper()}\")"
      ],
      "metadata": {
        "colab": {
          "base_uri": "https://localhost:8080/"
        },
        "id": "DWrqKygHvFsD",
        "outputId": "9fd8eff0-8833-422c-ec21-9daebb690a97"
      },
      "execution_count": null,
      "outputs": [
        {
          "output_type": "stream",
          "name": "stdout",
          "text": [
            "Qual é seu nome: Felix\n",
            "FELIX\n"
          ]
        }
      ]
    },
    {
      "cell_type": "code",
      "source": [
        "# 09). Crie uma mensagem que mostre o nome do usuário 3 vezes.\n",
        "nome = input(\"Qual é o seu nome: \")\n",
        "print(nome * 3) # ou\n",
        "print(nome, nome, nome, sep=\", \") # assim"
      ],
      "metadata": {
        "colab": {
          "base_uri": "https://localhost:8080/"
        },
        "id": "y4xc_wwnvkTH",
        "outputId": "6454a871-e0cf-470d-b991-470aa8e1c6ee"
      },
      "execution_count": null,
      "outputs": [
        {
          "output_type": "stream",
          "name": "stdout",
          "text": [
            "Qual é o seu nome: Felix\n",
            "FelixFelixFelix\n",
            "Felix, Felix, Felix\n"
          ]
        }
      ]
    },
    {
      "cell_type": "code",
      "source": [
        "# 10). Peça a cidade, estado e país, e exiba formatado.\n",
        "cidade = input(\"Qual a sua cidade: \")\n",
        "estado = input(\"Qual o seu estado:\")\n",
        "pais = input(\"Qual o seu pais: \")\n",
        "\n",
        "print(f\"Você mora em: {cidade}, {estado} - {pais}\")"
      ],
      "metadata": {
        "colab": {
          "base_uri": "https://localhost:8080/"
        },
        "id": "1bfUZMiFOLdd",
        "outputId": "47c44629-7444-4a92-eb8b-f60124d7cf40"
      },
      "execution_count": null,
      "outputs": [
        {
          "output_type": "stream",
          "name": "stdout",
          "text": [
            "Qual a sua cidade: São Paulo\n",
            "Qual o seu estado:S.P.\n",
            "Qual o seu pais: Brasil\n",
            "Você mora em: São Paulo, S.P. - Brasil\n"
          ]
        }
      ]
    }
  ]
}