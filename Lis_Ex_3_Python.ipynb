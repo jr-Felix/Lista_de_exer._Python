{
  "nbformat": 4,
  "nbformat_minor": 0,
  "metadata": {
    "colab": {
      "provenance": [],
      "authorship_tag": "ABX9TyPJJnxwK446a0QHq4WfHcpb"
    },
    "kernelspec": {
      "name": "python3",
      "display_name": "Python 3"
    },
    "language_info": {
      "name": "python"
    }
  },
  "cells": [
    {
      "cell_type": "markdown",
      "source": [
        "3º – Lista"
      ],
      "metadata": {
        "id": "pIGoU8iiLfh-"
      }
    },
    {
      "cell_type": "markdown",
      "source": [
        "Tipos primários, operadores numéricos, entrada e saída de dados"
      ],
      "metadata": {
        "id": "s0JCii4KLpzX"
      }
    },
    {
      "cell_type": "markdown",
      "source": [
        "Parte 1 – Tipos Primitivos (20 exercícios)"
      ],
      "metadata": {
        "id": "kGkfcwC0LxYg"
      }
    },
    {
      "cell_type": "markdown",
      "source": [],
      "metadata": {
        "id": "zMTHhbSDMnQB"
      }
    },
    {
      "cell_type": "code",
      "source": [
        "# Treinar o reconhecimento, a conversão e o uso correto dos tipos int, float, str, bool.\n",
        "# 1). Mostre na tela o tipo do valor 123.\n",
        "valor = 123\n",
        "print(type(valor))"
      ],
      "metadata": {
        "colab": {
          "base_uri": "https://localhost:8080/"
        },
        "id": "S7hbVU7VMeLN",
        "outputId": "8fa279ef-c370-4aa2-d609-5a01a51d0780"
      },
      "execution_count": null,
      "outputs": [
        {
          "output_type": "stream",
          "name": "stdout",
          "text": [
            "<class 'int'>\n"
          ]
        }
      ]
    },
    {
      "cell_type": "code",
      "source": [
        "# 02). Mostre na tela o tipo do valor \"Olá mundo\".\n",
        "saudacao = \"Ola, mundo\"\n",
        "print(type(saudacao))"
      ],
      "metadata": {
        "colab": {
          "base_uri": "https://localhost:8080/"
        },
        "id": "L3sjW88sM3hW",
        "outputId": "667a463e-10bb-447e-aa3f-a5841800eae5"
      },
      "execution_count": null,
      "outputs": [
        {
          "output_type": "stream",
          "name": "stdout",
          "text": [
            "<class 'str'>\n"
          ]
        }
      ]
    },
    {
      "cell_type": "code",
      "source": [
        "# 03). Mostre na tela o tipo do valor True.\n",
        "valor = True\n",
        "print(type(valor))"
      ],
      "metadata": {
        "colab": {
          "base_uri": "https://localhost:8080/"
        },
        "id": "3afhHFljNcSK",
        "outputId": "9d5d6c0e-9d30-481a-9bbf-9b141bac7fc2"
      },
      "execution_count": null,
      "outputs": [
        {
          "output_type": "stream",
          "name": "stdout",
          "text": [
            "<class 'bool'>\n"
          ]
        }
      ]
    },
    {
      "cell_type": "code",
      "source": [
        "# 04). Mostre na tela o tipo do valor 3.14.\n",
        "valor = 3.14\n",
        "print(type(valor))"
      ],
      "metadata": {
        "colab": {
          "base_uri": "https://localhost:8080/"
        },
        "id": "o3XV4mSENtLW",
        "outputId": "1cc21b22-d8ff-4def-ef53-235029096be1"
      },
      "execution_count": null,
      "outputs": [
        {
          "output_type": "stream",
          "name": "stdout",
          "text": [
            "<class 'float'>\n"
          ]
        }
      ]
    },
    {
      "cell_type": "code",
      "source": [
        "# 05). Use o input() para receber o nome de uma pessoa e mostre seu tipo.\n",
        "nome = str(input(\"Digite um nome: \"))\n",
        "print(type(nome))"
      ],
      "metadata": {
        "colab": {
          "base_uri": "https://localhost:8080/"
        },
        "id": "h93Hc8Q4N5rD",
        "outputId": "3ff68182-a317-4742-a5b0-4b7379a17f79"
      },
      "execution_count": null,
      "outputs": [
        {
          "output_type": "stream",
          "name": "stdout",
          "text": [
            "Digite um nome: Felix\n",
            "<class 'str'>\n"
          ]
        }
      ]
    },
    {
      "cell_type": "code",
      "source": [
        "# 06). Receba um número do usuário e diga se é int ou str.\n",
        "num = int(input(\"Digite um numero: \"))\n",
        "print(type(num))"
      ],
      "metadata": {
        "colab": {
          "base_uri": "https://localhost:8080/"
        },
        "id": "qFXhV0E0OSTx",
        "outputId": "6d218ca8-750f-4b93-89e7-76c0e3ae4d1e"
      },
      "execution_count": null,
      "outputs": [
        {
          "output_type": "stream",
          "name": "stdout",
          "text": [
            "Digite um numero: 21\n",
            "<class 'int'>\n"
          ]
        }
      ]
    },
    {
      "cell_type": "code",
      "source": [
        "# 07). Converta o número 5 para float e mostre na tela.\n",
        "numero = 5\n",
        "numero_float = float(numero)\n",
        "print(numero_float)"
      ],
      "metadata": {
        "colab": {
          "base_uri": "https://localhost:8080/"
        },
        "id": "lx6aRbopOrUN",
        "outputId": "7d623212-7007-460d-9189-270788fea367"
      },
      "execution_count": null,
      "outputs": [
        {
          "output_type": "stream",
          "name": "stdout",
          "text": [
            "<class 'float'>\n"
          ]
        }
      ]
    },
    {
      "cell_type": "code",
      "source": [
        "numero = 5\n",
        "numero_float = float(numero)\n",
        "print(numero_float)\n"
      ],
      "metadata": {
        "id": "w1AUAbEdPlCA"
      },
      "execution_count": null,
      "outputs": []
    },
    {
      "cell_type": "code",
      "source": [
        "# 08). Converta o valor \"9.5\" para float e imprima.\n",
        "valor = \"9.5\"\n",
        "valor_float = float(valor)\n",
        "print(valor_float)"
      ],
      "metadata": {
        "colab": {
          "base_uri": "https://localhost:8080/"
        },
        "id": "TYIyisJEPzmm",
        "outputId": "66ed1dd3-567a-4796-c134-b0a40e2bb595"
      },
      "execution_count": null,
      "outputs": [
        {
          "output_type": "stream",
          "name": "stdout",
          "text": [
            "9.5\n"
          ]
        }
      ]
    },
    {
      "cell_type": "code",
      "source": [
        "# 09). Converta o número 3.14 para inteiro.\n",
        "numero = 3.14\n",
        "numero_inteiro = int(numero)\n",
        "print(numero_inteiro)"
      ],
      "metadata": {
        "colab": {
          "base_uri": "https://localhost:8080/"
        },
        "id": "yjgdUw-eQMP3",
        "outputId": "fd06b9e4-b569-4209-e210-3577ce0052a1"
      },
      "execution_count": null,
      "outputs": [
        {
          "output_type": "stream",
          "name": "stdout",
          "text": [
            "3\n"
          ]
        }
      ]
    },
    {
      "cell_type": "code",
      "source": [
        "# 10). Converta a string \"True\" para bool usando bool().\n",
        "valor = \"True\"\n",
        "valor_booleano = bool(valor)\n",
        "print(valor_booleano)"
      ],
      "metadata": {
        "colab": {
          "base_uri": "https://localhost:8080/"
        },
        "id": "7Le9E3OhQo-S",
        "outputId": "1b4e7922-7a61-47f4-ef70-6313776114ea"
      },
      "execution_count": null,
      "outputs": [
        {
          "output_type": "stream",
          "name": "stdout",
          "text": [
            "True\n"
          ]
        }
      ]
    }
  ]
}