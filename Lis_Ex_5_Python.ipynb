{
  "nbformat": 4,
  "nbformat_minor": 0,
  "metadata": {
    "colab": {
      "provenance": [],
      "authorship_tag": "ABX9TyOFXdosDOxOjJFBKkGkxp5T"
    },
    "kernelspec": {
      "name": "python3",
      "display_name": "Python 3"
    },
    "language_info": {
      "name": "python"
    }
  },
  "cells": [
    {
      "cell_type": "markdown",
      "source": [
        "5º – Lista"
      ],
      "metadata": {
        "id": "ywfTwebLgtVf"
      }
    },
    {
      "cell_type": "markdown",
      "source": [
        "Parte 3 – Operadores Aritméticos (25 exercícios)"
      ],
      "metadata": {
        "id": "mjVPd7si-7T3"
      }
    },
    {
      "cell_type": "markdown",
      "source": [
        "01). Somar, subtrair, multiplicar, dividir, usar //, %, **.\n",
        "\n",
        "  \n",
        "  Receba dois números e mostre a soma.\n",
        "\n",
        "\tReceba dois números e mostre a subtração.\n",
        "\n",
        "\tReceba dois números e mostre a multiplicação.\n",
        "\n",
        "\tReceba dois números e mostre a divisão.\n",
        "\n",
        "\tMostre o resultado da divisão inteira de dois números.\n",
        "\n",
        "\tMostre o resto da divisão entre dois números."
      ],
      "metadata": {
        "id": "iNAIPcHZ_Ehc"
      }
    },
    {
      "cell_type": "code",
      "source": [
        "# Receba dois números e mostre a soma.\n",
        "num1 = int(input(\"Digite o primeiro número: \"))\n",
        "num2 = int(input(\"Digite o segundo número: \"))\n",
        "soma = num1 + num2\n",
        "print(f\"A soma é {soma}\")"
      ],
      "metadata": {
        "colab": {
          "base_uri": "https://localhost:8080/"
        },
        "id": "3ONRmboL_TXM",
        "outputId": "b63e12e0-110f-474e-e720-dc59e64c38b0"
      },
      "execution_count": null,
      "outputs": [
        {
          "output_type": "stream",
          "name": "stdout",
          "text": [
            "Digite o primeiro número: 23\n",
            "Digite o segundo número: 87\n",
            "A soma é 110\n"
          ]
        }
      ]
    },
    {
      "cell_type": "code",
      "source": [
        "# Receba dois números e mostre a subtração.\n",
        "num1 = int(input(\"Digite o primeiro número: \"))\n",
        "num2 = int(input(\"Digite o segundo número: \"))\n",
        "subtracao = num1 - num2\n",
        "print(f\"A subtracao é {subtracao}\")"
      ],
      "metadata": {
        "colab": {
          "base_uri": "https://localhost:8080/"
        },
        "id": "N5bInKMA_z92",
        "outputId": "734e9956-1e2b-49c7-ce7d-ed1405f9379f"
      },
      "execution_count": null,
      "outputs": [
        {
          "output_type": "stream",
          "name": "stdout",
          "text": [
            "Digite o primeiro número: 54\n",
            "Digite o segundo número: 12\n",
            "A subtracao é 42\n"
          ]
        }
      ]
    },
    {
      "cell_type": "code",
      "source": [
        "# Receba dois números e mostre a multiplicação.\n",
        "num1 = int(input(\"Digite o primeiro número: \"))\n",
        "num2 = int(input(\"Digite o segundo número: \"))\n",
        "multiplicacao = num1 * num2\n",
        "print(f\"A multiplicacao é {multiplicacao}\")"
      ],
      "metadata": {
        "colab": {
          "base_uri": "https://localhost:8080/"
        },
        "id": "M53yE4GHATvq",
        "outputId": "dd675de8-290c-49ef-b0a3-53b3fbdc27c4"
      },
      "execution_count": null,
      "outputs": [
        {
          "output_type": "stream",
          "name": "stdout",
          "text": [
            "Digite o primeiro número: 34\n",
            "Digite o segundo número: 6\n",
            "A multiplicacao é 204\n"
          ]
        }
      ]
    },
    {
      "cell_type": "code",
      "source": [
        "# Receba dois números e mostre a divisão.\n",
        "num1 = int(input(\"Digite o primeiro número: \"))\n",
        "num2 = int(input(\"Digite o segundo número: \"))\n",
        "divisao = num1 / num2\n",
        "print(f\"A divisao é {divisao:.2f}\")"
      ],
      "metadata": {
        "colab": {
          "base_uri": "https://localhost:8080/"
        },
        "id": "GRtUGQ0aAtWc",
        "outputId": "e4782264-1e94-4d85-e82d-a6d08ad2c203"
      },
      "execution_count": null,
      "outputs": [
        {
          "output_type": "stream",
          "name": "stdout",
          "text": [
            "Digite o primeiro número: 20\n",
            "Digite o segundo número: 3\n",
            "A divisao é 6.67\n"
          ]
        }
      ]
    },
    {
      "cell_type": "markdown",
      "source": [
        "Mostre o resultado da divisão inteira de dois números."
      ],
      "metadata": {
        "id": "2fVx7QffBKzx"
      }
    },
    {
      "cell_type": "code",
      "source": [
        "# Mostre o resultado da divisão inteira de dois números.\n",
        "num1 = int(input(\"Digite o primeiro número: \"))\n",
        "num2 = int(input(\"Digite o segundo número: \"))\n",
        "divisao_int = num1 // num2\n",
        "print(f\"A divisao é {divisao_int}\")"
      ],
      "metadata": {
        "colab": {
          "base_uri": "https://localhost:8080/"
        },
        "id": "mGWe2ngNBIXs",
        "outputId": "5b218aca-aadf-46f5-a8e0-b7d43dfdeea7"
      },
      "execution_count": null,
      "outputs": [
        {
          "output_type": "stream",
          "name": "stdout",
          "text": [
            "Digite o primeiro número: 67\n",
            "Digite o segundo número: 3\n",
            "A divisao é 22\n"
          ]
        }
      ]
    },
    {
      "cell_type": "markdown",
      "source": [
        "Mostre o resto da divisão entre dois números."
      ],
      "metadata": {
        "id": "abvEAV0NCZgd"
      }
    },
    {
      "cell_type": "code",
      "source": [
        "# Mostre o resto da divisão entre dois números.\n",
        "num1 = int(input(\"Digite o primeiro número: \"))\n",
        "num2 = int(input(\"Digite o segundo número: \"))\n",
        "\n",
        "# Calcula o resto da divisão\n",
        "resto = num1 % num2\n",
        "\n",
        "# Mostra o resultado\n",
        "print(f\"O resto da divisão de {num1} por {num2} é {resto}.\")"
      ],
      "metadata": {
        "colab": {
          "base_uri": "https://localhost:8080/"
        },
        "id": "t3POMGwACwlA",
        "outputId": "d59d9035-3ae6-42f7-a982-5842a592f8d1"
      },
      "execution_count": null,
      "outputs": [
        {
          "output_type": "stream",
          "name": "stdout",
          "text": [
            "Digite o primeiro número: 67\n",
            "Digite o segundo número: 3\n",
            "O resto da divisão de 67 por 3 é 1.\n"
          ]
        }
      ]
    },
    {
      "cell_type": "markdown",
      "source": [
        "02). Calcule o dobro, triplo e raiz quadrada de um número."
      ],
      "metadata": {
        "id": "cf4tvOzR3pjf"
      }
    },
    {
      "cell_type": "code",
      "source": [
        "numero = int(input(\"Digite um numero: \"))\n",
        "dobro = numero * 2\n",
        "triplo = numero * 3\n",
        "raiz_quadrada = numero ** 0,5\n",
        "print(f\"O dobro de {numero} é {dobro}\")\n",
        "print(f\"O triplo de {numero} é {triplo}\")\n",
        "print(f\"A raiz qiadrada de {numero} é {raiz_quadrada}\")"
      ],
      "metadata": {
        "colab": {
          "base_uri": "https://localhost:8080/"
        },
        "id": "ma5fXPIG3rRG",
        "outputId": "3a605eff-a163-4196-be04-74995299711b"
      },
      "execution_count": 3,
      "outputs": [
        {
          "output_type": "stream",
          "name": "stdout",
          "text": [
            "Digite um numero: 21\n",
            "O dobro de 21 é 42\n",
            "O triplo de 21 é 63\n",
            "A raiz qiadrada de 21 é (1, 5)\n"
          ]
        }
      ]
    },
    {
      "cell_type": "markdown",
      "source": [
        "03) Calcule o quadrado de um número."
      ],
      "metadata": {
        "id": "uOgSWhUt7bIQ"
      }
    },
    {
      "cell_type": "code",
      "source": [
        "numero = int (input(\"Digite um número: \"))\n",
        "quadrado  = numero ** 2\n",
        "print(f\"O quadrado de {numero} é {quadrado}\")"
      ],
      "metadata": {
        "colab": {
          "base_uri": "https://localhost:8080/"
        },
        "id": "_wAi-Eo659I9",
        "outputId": "e552fc85-a452-4ad8-ae08-baa88c19c164"
      },
      "execution_count": 4,
      "outputs": [
        {
          "output_type": "stream",
          "name": "stdout",
          "text": [
            "Digite um número: 20\n",
            "O quadrado de 20 é 400\n"
          ]
        }
      ]
    },
    {
      "cell_type": "markdown",
      "source": [
        "04). Receba a base e a altura de um retângulo e calcule a área."
      ],
      "metadata": {
        "id": "2lix42um7iQ0"
      }
    },
    {
      "cell_type": "code",
      "source": [
        "# Solicita os valores ao usuário\n",
        "base = float(input(\"Digite a base do retângulo: \"))\n",
        "altura = float(input(\"Digite a altura do retângulo: \"))\n",
        "\n",
        "# Calcula a área (base × altura)\n",
        "area = base * altura\n",
        "\n",
        "# Exibe o resultado\n",
        "print(f\"A área do retângulo é {area}.\")"
      ],
      "metadata": {
        "colab": {
          "base_uri": "https://localhost:8080/"
        },
        "id": "r0TUt8b96xxn",
        "outputId": "022a3025-be67-4975-f33d-25064527441a"
      },
      "execution_count": 5,
      "outputs": [
        {
          "output_type": "stream",
          "name": "stdout",
          "text": [
            "Digite a base do retângulo: 20\n",
            "Digite a altura do retângulo: 30\n",
            "A área do retângulo é 600.0.\n"
          ]
        }
      ]
    },
    {
      "cell_type": "markdown",
      "source": [
        "05). Receba dois números e calcule a média."
      ],
      "metadata": {
        "id": "L7pwL1-_7QMb"
      }
    },
    {
      "cell_type": "code",
      "source": [
        "num1 = int(input(\"Digite o primeiro numero: \"))\n",
        "num2 = int(input(\"Digite o segundo numero: \"))\n",
        "media = (num1 + num2) / 2\n",
        "print(f\"A media é {media}\")"
      ],
      "metadata": {
        "colab": {
          "base_uri": "https://localhost:8080/"
        },
        "id": "S9OdyyoS7pAD",
        "outputId": "b09428a1-59c8-4910-de4d-4c47c78593bc"
      },
      "execution_count": 7,
      "outputs": [
        {
          "output_type": "stream",
          "name": "stdout",
          "text": [
            "Digite o primeiro numero: 23\n",
            "Digite o segundo numero: 65\n",
            "A media é 44.0\n"
          ]
        }
      ]
    },
    {
      "cell_type": "markdown",
      "source": [
        "06). Calcule quantos minutos há em X horas."
      ],
      "metadata": {
        "id": "pOVqPvn98WOr"
      }
    },
    {
      "cell_type": "code",
      "source": [
        "horas = int(input(\"Digite o numero de horas: \"))\n",
        "minutos = horas * 60\n",
        "print(f\"O numero de minutos é {minutos} minutos\")"
      ],
      "metadata": {
        "colab": {
          "base_uri": "https://localhost:8080/"
        },
        "id": "qXl2gzKt8YGt",
        "outputId": "6b67da57-4ba9-47ec-d1d8-a8aca120cece"
      },
      "execution_count": 9,
      "outputs": [
        {
          "output_type": "stream",
          "name": "stdout",
          "text": [
            "Digite o numero de horas: 2\n",
            "O numero de minutos é 120 minutos\n"
          ]
        }
      ]
    },
    {
      "cell_type": "markdown",
      "source": [
        "07). Receba uma quantidade de dias e converta para semanas."
      ],
      "metadata": {
        "id": "Z378OddX9ITn"
      }
    },
    {
      "cell_type": "code",
      "source": [
        "# Entrada de dados\n",
        "dias = int(input(\"Digite a quantidade de dias: \"))\n",
        "\n",
        "# Cálculo: 1 semana = 7 dias\n",
        "semanas = dias // 7  # divisão inteira para saber quantas semanas completas\n",
        "dias_restantes = dias % 7  # resto da divisão para saber os dias que sobraram\n",
        "\n",
        "# Saída do resultado\n",
        "print(f\"{dias} dias equivalem a {semanas} semana(s) e {dias_restantes} dia(s).\")"
      ],
      "metadata": {
        "colab": {
          "base_uri": "https://localhost:8080/"
        },
        "id": "29UjJdF89FXy",
        "outputId": "2bfa7947-4336-4fc7-8cde-d5322081d8b2"
      },
      "execution_count": 10,
      "outputs": [
        {
          "output_type": "stream",
          "name": "stdout",
          "text": [
            "Digite a quantidade de dias: 15\n",
            "15 dias equivalem a 2 semana(s) e 1 dia(s).\n"
          ]
        }
      ]
    },
    {
      "cell_type": "markdown",
      "source": [
        "08). Receba dois preços e diga quanto o cliente gastou."
      ],
      "metadata": {
        "id": "DLWdOYB1Bg87"
      }
    },
    {
      "cell_type": "code",
      "source": [
        "num1 = float(input(\"Digite o primeiro preço: \"))\n",
        "num2 = float(input(\"digite o segundo preço: \"))\n",
        "gastou = num1 + num2\n",
        "print(f\"O cliente gastou {gastou}\")"
      ],
      "metadata": {
        "colab": {
          "base_uri": "https://localhost:8080/"
        },
        "id": "PJJiMczTBuuj",
        "outputId": "852613f8-cb42-4819-aa7b-3104e561a1e4"
      },
      "execution_count": 14,
      "outputs": [
        {
          "output_type": "stream",
          "name": "stdout",
          "text": [
            "Digite o primeiro preço: 210\n",
            "digite o segundo preço: 57\n",
            "O cliente gastou 267.0\n"
          ]
        }
      ]
    },
    {
      "cell_type": "markdown",
      "source": [
        "09). Receba o valor de um produto e aplique 10% de desconto."
      ],
      "metadata": {
        "id": "eNgxYl0MDEDr"
      }
    },
    {
      "cell_type": "code",
      "source": [
        "valor_original = float(input(\"Digite o valor do produto: \"))\n",
        "desconto = valor_original * 0.10\n",
        "valor_com_desconto = valor_original - desconto\n",
        "print(f\"o valor com desconto é {valor_com_desconto:.2f}\")"
      ],
      "metadata": {
        "colab": {
          "base_uri": "https://localhost:8080/"
        },
        "id": "BwamKl5UDGBz",
        "outputId": "5a39131b-5f58-4f86-af87-6296d28c54a9"
      },
      "execution_count": 16,
      "outputs": [
        {
          "output_type": "stream",
          "name": "stdout",
          "text": [
            "Digite o valor do produto: 1000\n",
            "o valor com desconto é 900.00\n"
          ]
        }
      ]
    },
    {
      "cell_type": "markdown",
      "source": [
        "10). Receba o salário de uma pessoa e aplique um aumento de 5%."
      ],
      "metadata": {
        "id": "D77lfbxGFfgZ"
      }
    },
    {
      "cell_type": "code",
      "source": [
        "salario = float(input(\"Digite o salario\"))\n",
        "aumento = salario * 0.05\n",
        "novo_salario = salario + aumento\n",
        "print(f\"O novo salario é de {novo_salario}\")"
      ],
      "metadata": {
        "colab": {
          "base_uri": "https://localhost:8080/"
        },
        "id": "Nufk4Y17FhnG",
        "outputId": "8c23de9e-7b59-4d1c-fc70-d3837cf8263a"
      },
      "execution_count": 17,
      "outputs": [
        {
          "output_type": "stream",
          "name": "stdout",
          "text": [
            "Digite o salario1000\n",
            "O novo salario é de 1050.0\n"
          ]
        }
      ]
    }
  ]
}