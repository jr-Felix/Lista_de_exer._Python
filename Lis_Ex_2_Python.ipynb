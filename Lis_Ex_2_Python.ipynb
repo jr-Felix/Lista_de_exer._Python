{
  "nbformat": 4,
  "nbformat_minor": 0,
  "metadata": {
    "colab": {
      "provenance": [],
      "authorship_tag": "ABX9TyNhILAph+PYjIsZf+Wak+ae"
    },
    "kernelspec": {
      "name": "python3",
      "display_name": "Python 3"
    },
    "language_info": {
      "name": "python"
    }
  },
  "cells": [
    {
      "cell_type": "markdown",
      "source": [
        "2º – Lista"
      ],
      "metadata": {
        "id": "XU214UipkM12"
      }
    },
    {
      "cell_type": "markdown",
      "source": [
        "ENTRADA E SAÍDA DE DADOS (10 exercícios)"
      ],
      "metadata": {
        "id": "bTbbS8LqkTJz"
      }
    },
    {
      "cell_type": "markdown",
      "source": [],
      "metadata": {
        "id": "6HdrSwYDkS8d"
      }
    },
    {
      "cell_type": "code",
      "source": [
        "# 01). Peça ao usuário para digitar seu nome e idade. Imprima: “Olá, NOME! Você tem IDADE anos.”\n",
        "nome = \"Felix\"\n",
        "idade = 40\n",
        "print(f\"Ola, {nome}, Voce tem {idade} anos\")"
      ],
      "metadata": {
        "colab": {
          "base_uri": "https://localhost:8080/"
        },
        "id": "oNSl9betkYVI",
        "outputId": "737a6db0-6c60-4982-f5ae-3d0752fd3e32"
      },
      "execution_count": null,
      "outputs": [
        {
          "output_type": "stream",
          "name": "stdout",
          "text": [
            "Ola, Felix, Voce tem 40 anos\n"
          ]
        }
      ]
    },
    {
      "cell_type": "code",
      "source": [
        "# 02). Peça 2 números ao usuário e exiba a soma.\n",
        "num1 = 45\n",
        "num2 = 55\n",
        "soma = num1 + num2\n",
        "print(soma)"
      ],
      "metadata": {
        "colab": {
          "base_uri": "https://localhost:8080/"
        },
        "id": "jNtu6CVumdMp",
        "outputId": "32feec01-8d42-49fd-b478-e63ff262389d"
      },
      "execution_count": null,
      "outputs": [
        {
          "output_type": "stream",
          "name": "stdout",
          "text": [
            "100\n"
          ]
        }
      ]
    },
    {
      "cell_type": "code",
      "source": [
        "# 03). Peça um número e diga se ele é par ou ímpar.\n",
        "num = int(input(\"Digite um numero: \"))\n",
        "if num % 2 == 0:\n",
        "  print(\"numero e PAR\")\n",
        "else:\n",
        "  print(\"numero é IMPAR\")"
      ],
      "metadata": {
        "colab": {
          "base_uri": "https://localhost:8080/"
        },
        "id": "gNV_Fo1WnByP",
        "outputId": "132138b4-2ea5-4681-d135-a514c11c9771"
      },
      "execution_count": null,
      "outputs": [
        {
          "output_type": "stream",
          "name": "stdout",
          "text": [
            "Digite um numero: 21\n",
            "numero é IMPAR\n"
          ]
        }
      ]
    },
    {
      "cell_type": "code",
      "source": [
        "# 04). Peça o nome e a profissão do usuário. Mostre uma mensagem formatada com f-string.\n",
        "nome = str(input(\"Digite seu nome: \"))\n",
        "profissao = str(input(\"informe sua profissao: \"))\n",
        "print(f\"Seu nome é {nome} e sua profissao é {profissao}\")"
      ],
      "metadata": {
        "colab": {
          "base_uri": "https://localhost:8080/"
        },
        "id": "NSfMcXgRpOWr",
        "outputId": "5123478f-c741-4b31-fa73-d42488b894f6"
      },
      "execution_count": null,
      "outputs": [
        {
          "output_type": "stream",
          "name": "stdout",
          "text": [
            "Digite seu nome: Felix\n",
            "informe sua profissao: Programador\n",
            "Seu nome é Felix e sua profissao é Programador\n"
          ]
        }
      ]
    },
    {
      "cell_type": "code",
      "source": [
        "# 05). Peça 3 notas, calcule a média e mostre o resultado com 2 casas decimais.\n",
        "nota1 = float(input(\"Informa a primeira nota: \"))\n",
        "nota2 = float(input(\"Informa a segunda nota: \"))\n",
        "nota3 = float(input(\"Informe a terceira nota: \"))\n",
        "media = (nota1 + nota2 + nota3) / 3\n",
        "print(f\"Sua média é {media:.2f}\")"
      ],
      "metadata": {
        "colab": {
          "base_uri": "https://localhost:8080/"
        },
        "id": "L3tKJIJ-qejM",
        "outputId": "12efbe37-f391-4532-cc8a-397018fa0f0f"
      },
      "execution_count": null,
      "outputs": [
        {
          "output_type": "stream",
          "name": "stdout",
          "text": [
            "Informa a primeira nota: 7.1\n",
            "Informa a segunda nota: 5.8\n",
            "Informe a terceira nota: 6.3\n",
            "Sua média é 6.40\n"
          ]
        }
      ]
    },
    {
      "cell_type": "code",
      "source": [
        "# 06). Peça um valor em metros e converta para centímetros e milímetros.\n",
        "mt = float(input(\"Digite um valor em metros: \"))\n",
        "cm = mt * 100\n",
        "mm = mt * 1000\n",
        "print(f\"metros: {mt}mt\")\n",
        "print(f\"centimetros: {cm}cm\")\n",
        "print(f\"milimetros: {mm}mm\")"
      ],
      "metadata": {
        "colab": {
          "base_uri": "https://localhost:8080/"
        },
        "id": "79NrBAEcsJk-",
        "outputId": "b8c9a3a6-e488-4f5a-a2d1-1e1593339a4a"
      },
      "execution_count": null,
      "outputs": [
        {
          "output_type": "stream",
          "name": "stdout",
          "text": [
            "Digite um valor em metros: 1\n",
            "metros: 1.0mt\n",
            "centimetros: 100.0cm\n",
            "milimetros: 1000.0mm\n"
          ]
        }
      ]
    },
    {
      "cell_type": "code",
      "source": [],
      "metadata": {
        "id": "qDv4boEFsJDY"
      },
      "execution_count": null,
      "outputs": []
    },
    {
      "cell_type": "code",
      "source": [
        "# 07). Peça ao usuário para digitar um número inteiro. Mostre o antecessor e o sucessor.\n",
        "num = int(input(\"Digite um número: \"))\n",
        "ant = num - 1\n",
        "suc = num + 1\n",
        "print(f\"numero: {num}\")\n",
        "print(f\"Antecessor: {ant}\")\n",
        "print(f\"sucessor: {suc}\")"
      ],
      "metadata": {
        "colab": {
          "base_uri": "https://localhost:8080/"
        },
        "id": "H0FzUi-DtMu4",
        "outputId": "e44c8910-2fe3-4471-9919-c631af47a28d"
      },
      "execution_count": null,
      "outputs": [
        {
          "output_type": "stream",
          "name": "stdout",
          "text": [
            "Digite um número: 100\n",
            "numero: 100\n",
            "Antecessor: 99\n",
            "sucessor: 101\n"
          ]
        }
      ]
    },
    {
      "cell_type": "code",
      "source": [
        "# 08). Peça o salário e mostre quanto ele ganharia com um aumento de 10%.\n",
        "sal = 1518\n",
        "nvsal = (sal * 1.10)\n",
        "print(f\"Salario atual é de {sal}, com aumento de 10% foi para {nvsal:.2f}\")"
      ],
      "metadata": {
        "colab": {
          "base_uri": "https://localhost:8080/"
        },
        "id": "uisR2dKCuFVx",
        "outputId": "7ebf0b4c-6af0-44dd-d84c-0588f70d7468"
      },
      "execution_count": null,
      "outputs": [
        {
          "output_type": "stream",
          "name": "stdout",
          "text": [
            "Salario atual é de 1518, com aumento de 10% foi para 1669.80\n"
          ]
        }
      ]
    },
    {
      "cell_type": "code",
      "source": [
        "# 09). Peça o valor de um produto e o desconto (%). Mostre o valor com o desconto aplicado.\n",
        "\n",
        "valor_produto = float(input(\"Digite o valor do produto: R$ \"))\n",
        "desconto = float(input(\"Digite o percentual de desconto (%): \"))\n",
        "valor_desconto = valor_produto * (desconto / 100)\n",
        "valor_final = valor_produto - valor_desconto\n",
        "print(f\"O valor do produto com {desconto}% de desconto é: R$ {valor_final:.2f}\")"
      ],
      "metadata": {
        "colab": {
          "base_uri": "https://localhost:8080/"
        },
        "id": "buckJzenvYi8",
        "outputId": "6040820c-9dad-4413-acf6-bcd4ea3d3d1f"
      },
      "execution_count": null,
      "outputs": [
        {
          "output_type": "stream",
          "name": "stdout",
          "text": [
            "Digite o valor do produto: R$ 100\n",
            "Digite o percentual de desconto (%): 10\n",
            "O valor do produto com 10.0% de desconto é: R$ 90.00\n"
          ]
        }
      ]
    },
    {
      "cell_type": "code",
      "source": [
        "# 10). **Peça o nome, idade e cidade do usuário e imprima uma ficha personalizada:\n",
        "nome = str(input(\"Digite seu nome: \"))\n",
        "idade = int(input(\"Digite sua idade: \"))\n",
        "cidade = str(input(\"Informe sua cidade: \"))\n",
        "print(\"=\" * 20)\n",
        "print(f\"* Seu nome é {nome} *\")\n",
        "print(f\"* Você tem {idade} anos *\")\n",
        "print(f\"* voce é de: {cidade} *\")\n",
        "print(\"=\" * 20)\n",
        "\n",
        "# f\"{linha:<35}*\" → alinha a string linha à esquerda ocupando 35 caracteres e depois imprime *.\n",
        "# Assim, todos os * ficam na mesma coluna.\n",
        "# Usei print(\"=\" * 40) para fazer a moldura de 40 caracteres."
      ],
      "metadata": {
        "colab": {
          "base_uri": "https://localhost:8080/"
        },
        "id": "E1avSs1xw-q0",
        "outputId": "d8663c78-eba8-44d3-dd80-90c41f7eeade"
      },
      "execution_count": null,
      "outputs": [
        {
          "output_type": "stream",
          "name": "stdout",
          "text": [
            "Digite seu nome: Felix\n",
            "Digite sua idade: 35\n",
            "Informe sua cidade: SJC\n",
            "====================\n",
            "* Seu nome é Felix *\n",
            "* Você tem 35 anos *\n",
            "* voce é de: SJC *\n",
            "====================\n"
          ]
        }
      ]
    },
    {
      "cell_type": "code",
      "source": [
        "# Outro resultado diferente.\n",
        "# 10). **Peça o nome, idade e cidade do usuário e imprima uma ficha personalizada:\n",
        "\n",
        "# Solicita as informações do usuário\n",
        "nome = str(input(\"Digite seu nome: \"))\n",
        "idade = int(input(\"Digite sua idade: \"))\n",
        "cidade = str(input(\"Informe sua cidade: \"))\n",
        "\n",
        "# Exibe a moldura\n",
        "print(\"=\" * 30)\n",
        "\n",
        "# Exibe as informações com alinhamento e asteriscos no final\n",
        "linha = f\"Seu nome é {nome}\"\n",
        "print(f\"{linha:<30}*\")\n",
        "\n",
        "linha = f\"Você tem {idade} anos\"\n",
        "print(f\"{linha:<30}*\")\n",
        "\n",
        "linha = f\"Você é de: {cidade}\"\n",
        "print(f\"{linha:<30}*\")\n",
        "\n",
        "# Linha inferior da moldura\n",
        "print(\"=\" * 30)"
      ],
      "metadata": {
        "id": "NTcwahfx1kD5",
        "colab": {
          "base_uri": "https://localhost:8080/"
        },
        "outputId": "6fdd08f1-053d-4b28-deac-567677bd46dd"
      },
      "execution_count": null,
      "outputs": [
        {
          "output_type": "stream",
          "name": "stdout",
          "text": [
            "Digite seu nome: Felix\n",
            "Digite sua idade: 30\n",
            "Informe sua cidade: S.j.C.\n",
            "==============================\n",
            "Seu nome é Felix              *\n",
            "Você tem 30 anos              *\n",
            "Você é de: S.j.C.             *\n",
            "==============================\n"
          ]
        }
      ]
    }
  ]
}