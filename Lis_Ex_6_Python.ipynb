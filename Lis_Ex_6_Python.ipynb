{
  "nbformat": 4,
  "nbformat_minor": 0,
  "metadata": {
    "colab": {
      "provenance": [],
      "authorship_tag": "ABX9TyM5aSyuDg0ZodAaOnLC8XlG"
    },
    "kernelspec": {
      "name": "python3",
      "display_name": "Python 3"
    },
    "language_info": {
      "name": "python"
    }
  },
  "cells": [
    {
      "cell_type": "markdown",
      "source": [
        "6º – Lista"
      ],
      "metadata": {
        "id": "i71MaKrU0LQk"
      }
    },
    {
      "cell_type": "markdown",
      "source": [
        "Parte 4 – Misturando Tudo (30 exercícios)"
      ],
      "metadata": {
        "id": "O8I1afZi0RyL"
      }
    },
    {
      "cell_type": "markdown",
      "source": [
        "01). Receba o nome, idade e peso. Mostre tudo em uma frase."
      ],
      "metadata": {
        "id": "Tt9aNm630aTJ"
      }
    },
    {
      "cell_type": "code",
      "source": [
        "nome = \"Felix\"\n",
        "idade = 60\n",
        "peso = 61\n",
        "print(f\"Seu nome é {nome}, você tem {idade} anos, seu peso é {peso} kg\")"
      ],
      "metadata": {
        "colab": {
          "base_uri": "https://localhost:8080/"
        },
        "id": "Di8DWU720c8r",
        "outputId": "daa2b6d6-8934-4416-ab83-bb322bb5b25e"
      },
      "execution_count": null,
      "outputs": [
        {
          "output_type": "stream",
          "name": "stdout",
          "text": [
            "Seu nome é Felix, você tem 60 anos, seu peso é 61 kg\n"
          ]
        }
      ]
    },
    {
      "cell_type": "markdown",
      "source": [
        "02). Receba 2 números e mostre todas as operações entre eles."
      ],
      "metadata": {
        "id": "pz6d2gHD1M72"
      }
    },
    {
      "cell_type": "code",
      "source": [
        "# COM ERRO\n",
        "num1 = float(input(\"Digite um numero: \"))\n",
        "num2 = float(input(\"Digite outro numero:\"))\n",
        "\n",
        "soma = num1 + num2\n",
        "subtracao = num1 - num2\n",
        "multiplicacao = num1 * num2\n",
        "\n",
        "if num2 != 0:\n",
        "  divisao = num1 / num2\n",
        "  divisao_inteira = num1 // num2\n",
        "  resto = num1 % num2\n",
        "  # Exibe os resultados\n",
        "  print(f\"soma {soma}\")\n",
        "  print(f\"subtração {subtracao}\")\n",
        "  print(f\"multiplicação {multiplicacao}\")\n",
        "  print(f\"divisão {divisao}\")\n",
        "  print(f\"divisão_inteira {divisao_inteira}\")\n",
        "  print(f\"resto da divisao {resto}\")\n",
        "\n",
        "else:\n",
        "  divisao = \"Indefinida (divisao por zero)\"\n",
        "  divisao_inteira = \"Indefinida\"\n",
        "  resto = \"Indefinido\"\n",
        "  # Exibe os resultados (para o caso de divisão por zero)\n",
        "  print(f\"soma {soma}\")\n",
        "  print(f\"subtração {subtracao}\")\n",
        "  print(f\"multiplicação {multiplicacao}\")\n",
        "  print(f\"divisão {divisao}\")\n",
        "  print(f\"divisão_inteira {divisao_inteira}\")\n",
        "  print(f\"resto da divisao {resto}\")"
      ],
      "metadata": {
        "colab": {
          "base_uri": "https://localhost:8080/"
        },
        "id": "klp4bmES1b-v",
        "outputId": "9e061ed5-7e2a-4aef-f9a6-18e940a82f86"
      },
      "execution_count": null,
      "outputs": [
        {
          "output_type": "stream",
          "name": "stdout",
          "text": [
            "Digite um numero: 10\n",
            "Digite outro numero:20\n",
            "soma 30.0\n",
            "subtração -10.0\n",
            "multiplicação 200.0\n",
            "divisão 0.5\n",
            "divisão_inteira 0.0\n",
            "resto da divisao 10.0\n"
          ]
        }
      ]
    },
    {
      "cell_type": "markdown",
      "source": [
        "03). Crie um sistema que receba 2 notas e diga se foi aprovado (média ≥ 7)."
      ],
      "metadata": {
        "id": "ht49i5zqzyK1"
      }
    },
    {
      "cell_type": "code",
      "source": [
        "nota1 = float(input(\"Digite a primeira nota: \"))\n",
        "nota2 = float(input(\"Digite a segunda nota: \"))\n",
        "media = (nota1 + nota2) / 2\n",
        "if media >= 7:\n",
        "  print(\"Aluno: APROVADO\")\n",
        "else:\n",
        "  print(\"Aluno: REPROVADO\")"
      ],
      "metadata": {
        "colab": {
          "base_uri": "https://localhost:8080/"
        },
        "id": "yCDLkhSfz4tl",
        "outputId": "df49ee73-45fe-4323-eacc-33ec703fcf48"
      },
      "execution_count": null,
      "outputs": [
        {
          "output_type": "stream",
          "name": "stdout",
          "text": [
            "Digite a primeira nota: 9.0\n",
            "Digite a segunda nota: 8.6\n",
            "Aluno: APROVADO\n"
          ]
        }
      ]
    },
    {
      "cell_type": "markdown",
      "source": [
        "04). Receba o nome e a idade. Diga quantos anos terá em 10 anos"
      ],
      "metadata": {
        "id": "o8dFNsKM1COL"
      }
    },
    {
      "cell_type": "code",
      "source": [
        "nome = str(input(\"Digite seu nome: \"))\n",
        "idade = int(input(\"Digite sua idade: \"))\n",
        "idade = idade + 10\n",
        "print(f\"{nome}, Daqui a dez anos você tera: {idade} anos.\")"
      ],
      "metadata": {
        "colab": {
          "base_uri": "https://localhost:8080/"
        },
        "id": "PjvS4MDY1FtP",
        "outputId": "5e70e711-e84c-4fa0-fe9a-f06a5f41b656"
      },
      "execution_count": null,
      "outputs": [
        {
          "output_type": "stream",
          "name": "stdout",
          "text": [
            "Digite seu nome: felix\n",
            "Digite sua idade: 60\n",
            "felix, Daqui a dez anos você tera: 70 anos.\n"
          ]
        }
      ]
    },
    {
      "cell_type": "markdown",
      "source": [
        "05). Receba a temperatura em Celsius e converta para Fahrenheit."
      ],
      "metadata": {
        "id": "IBw3cyqZ2H9s"
      }
    },
    {
      "cell_type": "code",
      "source": [
        "# Use a formula (0 °C x 9/5) + 32 = 32°F))\n",
        "celsius = float(input(\"Digite a temperatura em graus Celsius: \"))\n",
        "fahrenheit = (celsius * 9/5) + 32\n",
        "print(f\"{celsius}°C é equivalente a {fahrenheit}ºF\")"
      ],
      "metadata": {
        "colab": {
          "base_uri": "https://localhost:8080/"
        },
        "id": "gxdXt4d_2KkN",
        "outputId": "7f888f7a-6abe-4a24-f181-af81d7c20ebf"
      },
      "execution_count": null,
      "outputs": [
        {
          "output_type": "stream",
          "name": "stdout",
          "text": [
            "Digite a temperatura em graus Celsius: 30\n",
            "30.0°C é equivalente a 86.0ºF\n"
          ]
        }
      ]
    },
    {
      "cell_type": "markdown",
      "source": [
        "06). Faça uma calculadora de aumento de salário."
      ],
      "metadata": {
        "id": "gxjItdsp4_oj"
      }
    },
    {
      "cell_type": "code",
      "source": [
        "salario = float(input(\"Digite seu salario R$ \"))\n",
        "novo_salario = salario * 1.10\n",
        "print(f\"Salario atual {salario} Seu novo salario é: {novo_salario}\")"
      ],
      "metadata": {
        "colab": {
          "base_uri": "https://localhost:8080/"
        },
        "id": "MRi3cHly61RF",
        "outputId": "8bc68c82-a909-491d-c891-ffe13e115146"
      },
      "execution_count": null,
      "outputs": [
        {
          "output_type": "stream",
          "name": "stdout",
          "text": [
            "Digite seu salario R$ 1000\n",
            "Salario atual 1000.0 Seu novo salario é: 1100.0\n"
          ]
        }
      ]
    },
    {
      "cell_type": "markdown",
      "source": [
        "07). Faça um script que calcule o troco de uma compra."
      ],
      "metadata": {
        "id": "CI7ZFMVm7yH3"
      }
    },
    {
      "cell_type": "code",
      "source": [
        "preco = float(input(\"Digite o valor do produto (R$): \"))\n",
        "valor_pago = float(input(\"Digite o valor pago pelo cliente (R$: \"))\n",
        "troco = valor_pago - preco\n",
        "if troco > 0:\n",
        "  print(f\"O troco é R$ {troco:.2f}\")\n",
        "elif troco == 0:\n",
        "  print(\"Pagamnento exato. Não a troco. \")\n",
        "else:\n",
        "  print(f\"Faltam R$ {abs(troco):.2f} para completar o pagamento.\") # abs(troco): garante que o número mostrado seja positivo, mesmo que troco seja negativo."
      ],
      "metadata": {
        "colab": {
          "base_uri": "https://localhost:8080/"
        },
        "id": "elT765oP8FXz",
        "outputId": "f9f907f6-3d79-4842-e160-492d604bd4a4"
      },
      "execution_count": null,
      "outputs": [
        {
          "output_type": "stream",
          "name": "stdout",
          "text": [
            "Digite o valor do produto (R$): 105\n",
            "Digite o valor pago pelo cliente (R$: 58\n",
            "Faltam R$ 47.00 para completar o pagamento.\n"
          ]
        }
      ]
    },
    {
      "cell_type": "markdown",
      "source": [
        "08). Receba o nome do aluno e a média, e diga se foi aprovado."
      ],
      "metadata": {
        "id": "tMNEdtBm_Ipw"
      }
    },
    {
      "cell_type": "code",
      "source": [
        "nome = str(input(\"Digite seu nome: \"))\n",
        "nota = float(input(\"Digite a nota do aluno: \"))\n",
        "media = nota\n",
        "if nota >= 5:\n",
        "  print(f\"{nome} Você foi: APROVADO\")\n",
        "else:\n",
        "  print(f\"{nome} Você foi: REPROVADO\")"
      ],
      "metadata": {
        "colab": {
          "base_uri": "https://localhost:8080/"
        },
        "id": "Io6NETZI_KVZ",
        "outputId": "1b9219d7-f37c-40de-caed-fede1666efd0"
      },
      "execution_count": null,
      "outputs": [
        {
          "output_type": "stream",
          "name": "stdout",
          "text": [
            "Digite seu nome: Felix\n",
            "Digite a nota do aluno: 5.1\n",
            "Felix Você foi: APROVADO\n"
          ]
        }
      ]
    },
    {
      "cell_type": "markdown",
      "source": [
        "09). Peça o valor de um aluguel e o número de meses. Calcule o total."
      ],
      "metadata": {
        "id": "LgOLnrTEArrZ"
      }
    },
    {
      "cell_type": "code",
      "source": [
        "valor_aluguel = float(input(\"Digite o valor do aluguel (R$): \"))\n",
        "meses = int(input(\"Digite o número de meses: \"))\n",
        "valor_total = valor_aluguel * meses\n",
        "print(f\"O valor total a pagar por {meses} meses de aluguel, sera de R$ {valor_total:.2f}\")"
      ],
      "metadata": {
        "colab": {
          "base_uri": "https://localhost:8080/"
        },
        "id": "OaBsKAi6BCZ9",
        "outputId": "72debe96-c0b0-436f-fa4e-33137c6aa44a"
      },
      "execution_count": null,
      "outputs": [
        {
          "output_type": "stream",
          "name": "stdout",
          "text": [
            "Digite o valor do aluguel (R$): 1200\n",
            "Digite o número de meses: 8\n",
            "O valor total a pagar por 8 meses de aluguel, sera de R$ 9600.00\n"
          ]
        }
      ]
    },
    {
      "cell_type": "markdown",
      "source": [
        "10). Receba dois números e diga qual é o maior."
      ],
      "metadata": {
        "id": "-21-r3MeCi5q"
      }
    },
    {
      "cell_type": "code",
      "source": [
        "num1 = int(input(\"Digite um número: \"))\n",
        "num2 = int(input(\"Digite outro número: \"))\n",
        "\n",
        "if num1 > num2:\n",
        "  print(f\"O número {num1} é o maior\")\n",
        "elif num2 > num1:\n",
        "  print(f\"número {num2} é o maior\")\n",
        "else:\n",
        "  print(\"Os dois numeros sâo iguais. \")"
      ],
      "metadata": {
        "colab": {
          "base_uri": "https://localhost:8080/"
        },
        "id": "1tvEeZhUCl80",
        "outputId": "2c52592e-d68b-4c2c-cbaa-a4a5051cb691"
      },
      "execution_count": 39,
      "outputs": [
        {
          "output_type": "stream",
          "name": "stdout",
          "text": [
            "Digite um número: 10\n",
            "Digite outro número: 30\n",
            "número 30 é o maior\n"
          ]
        }
      ]
    }
  ]
}