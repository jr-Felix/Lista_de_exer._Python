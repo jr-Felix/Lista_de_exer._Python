{
  "nbformat": 4,
  "nbformat_minor": 0,
  "metadata": {
    "colab": {
      "provenance": [],
      "authorship_tag": "ABX9TyP8d02j75aDyFRUkDoZAfDv"
    },
    "kernelspec": {
      "name": "python3",
      "display_name": "Python 3"
    },
    "language_info": {
      "name": "python"
    }
  },
  "cells": [
    {
      "cell_type": "markdown",
      "source": [
        "5º – Lista"
      ],
      "metadata": {
        "id": "ywfTwebLgtVf"
      }
    },
    {
      "cell_type": "markdown",
      "source": [
        "11). Receba um número e calcule seu antecessor e sucessor"
      ],
      "metadata": {
        "id": "uXNPRHrLvThT"
      }
    },
    {
      "cell_type": "code",
      "source": [
        "numero = int(input(\"Digite um número: \"))\n",
        "antecessor = numero - 1\n",
        "sucessor = numero + 1\n",
        "print(f\"O antecessor de {numero} é {antecessor} e o sucessor é {sucessor}\")"
      ],
      "metadata": {
        "colab": {
          "base_uri": "https://localhost:8080/"
        },
        "id": "qbAfOokLvVah",
        "outputId": "b01b958e-eb25-4f18-8c61-0cf631941612"
      },
      "execution_count": null,
      "outputs": [
        {
          "output_type": "stream",
          "name": "stdout",
          "text": [
            "Digite um número: 100\n",
            "O antecessor de 100 é 99 e o sucessor é 101\n"
          ]
        }
      ]
    },
    {
      "cell_type": "markdown",
      "source": [
        "12). Receba uma nota e diga quantos pontos faltam para 10."
      ],
      "metadata": {
        "id": "hM0T7eNsv8-9"
      }
    },
    {
      "cell_type": "code",
      "source": [
        "nota = float(input(\"Digite a nota: \"))\n",
        "falta = 10 - nota\n",
        "print(\"Faltam\", falta, \"pontos para 10\")"
      ],
      "metadata": {
        "colab": {
          "base_uri": "https://localhost:8080/"
        },
        "id": "0KGbWdS8v-nd",
        "outputId": "b88a7aba-bcfe-411d-ab6c-36d58f09cb84"
      },
      "execution_count": null,
      "outputs": [
        {
          "output_type": "stream",
          "name": "stdout",
          "text": [
            "Digite a nota: 6\n",
            "Faltam 4.0 pontos para 10\n"
          ]
        }
      ]
    },
    {
      "cell_type": "markdown",
      "source": [
        "13). Receba o valor do dólar e quantos reais o usuário tem. Converta.\n"
      ],
      "metadata": {
        "id": "Szl8hKFVwreg"
      }
    },
    {
      "cell_type": "code",
      "source": [
        "dolar = float(input(\"Digite o valor do Dolar: $\"))\n",
        "reais = float(input(\"Diogite a quantidade de reais: R$\"))\n",
        "conversao = dolar * reais\n",
        "print(f\"O valor em reais é, R${conversao:.2f}\")"
      ],
      "metadata": {
        "colab": {
          "base_uri": "https://localhost:8080/"
        },
        "id": "OsMMQXigwwBI",
        "outputId": "b4a735f7-1da3-4a12-f8b6-2c12ef417cf9"
      },
      "execution_count": null,
      "outputs": [
        {
          "output_type": "stream",
          "name": "stdout",
          "text": [
            "Digite o valor do Dolar: $5.58\n",
            "Diogite a quantidade de reais: R$100\n",
            "O valor em reais é, R$558.0\n"
          ]
        }
      ]
    },
    {
      "cell_type": "markdown",
      "source": [
        "14). Receba a idade de uma pessoa e calcule em meses."
      ],
      "metadata": {
        "id": "VlUOf39LzkLh"
      }
    },
    {
      "cell_type": "code",
      "source": [
        "idade = int(input(\"Digite sua idade em anos: \"))\n",
        "meses = idade * 12\n",
        "print(f\"Sua idade em meses é: {meses} meses.\")"
      ],
      "metadata": {
        "colab": {
          "base_uri": "https://localhost:8080/"
        },
        "id": "kv_3eSF--4re",
        "outputId": "7a14794a-50ea-4fda-e8a8-cf376b8560ee"
      },
      "execution_count": null,
      "outputs": [
        {
          "output_type": "stream",
          "name": "stdout",
          "text": [
            "Digite sua idade em anos: 60\n",
            "Sua idade em meses é: 720 meses.\n"
          ]
        }
      ]
    },
    {
      "cell_type": "markdown",
      "source": [
        "15). Calcule o IMC de uma pessoa (peso ÷ altura²).\n"
      ],
      "metadata": {
        "id": "fgmU7vuPDy5K"
      }
    },
    {
      "cell_type": "code",
      "source": [
        "peso = int(input(\"Digite seu peso: \"))\n",
        "altura = float(input(\"Digite sua altura: \"))\n",
        "imc = peso / altura ** 2\n",
        "print(f\"Seu IMC È: {imc:.2f}\")"
      ],
      "metadata": {
        "colab": {
          "base_uri": "https://localhost:8080/"
        },
        "id": "LiyJBUvYD1Z1",
        "outputId": "0152fa25-897b-4256-d16e-d15cef383c97"
      },
      "execution_count": null,
      "outputs": [
        {
          "output_type": "stream",
          "name": "stdout",
          "text": [
            "Digite seu peso: 60\n",
            "Digite sua altura: 1.65\n",
            "Seu IMC È: 22.04\n"
          ]
        }
      ]
    },
    {
      "cell_type": "markdown",
      "source": [
        "16). Calcule o preço total de 3 produtos."
      ],
      "metadata": {
        "id": "9MWEFAEgE_Ke"
      }
    },
    {
      "cell_type": "code",
      "source": [
        "produto1 = int(input(\"Digite o valor do produto 1: \"))\n",
        "produto2 = int(input(\"Digite o valor do produto 2: \"))\n",
        "produto3 = int(input(\"Digite o valor do poduto 3: \"))\n",
        "total = produto1 + produto2 + produto3\n",
        "print(f\"O valor total é: {total}\")"
      ],
      "metadata": {
        "colab": {
          "base_uri": "https://localhost:8080/"
        },
        "id": "iM42Jk0QFDTl",
        "outputId": "8a07d929-cd9e-405c-a2c8-23c410547138"
      },
      "execution_count": null,
      "outputs": [
        {
          "output_type": "stream",
          "name": "stdout",
          "text": [
            "Digite o valor do produto 1: 20\n",
            "Digite o valor do produto 2: 40\n",
            "Digite o valor do poduto 3: 60\n",
            "O valor total é: 120\n"
          ]
        }
      ]
    },
    {
      "cell_type": "markdown",
      "source": [
        "17 ). Faça uma calculadora simples (soma, subtração, multiplicação, divisão).\n"
      ],
      "metadata": {
        "id": "A37IANT5GMhV"
      }
    },
    {
      "cell_type": "code",
      "source": [
        "# Recebe dois números do usuário\n",
        "\n",
        "num1 = float(input(\"Digite o primeiro número: \"))\n",
        "num2 = float(input(\"Digite o segundo número: \"))\n",
        "\n",
        "# Mostra as opções de operação\n",
        "print(\"Escolha a operação:\")\n",
        "print(\"1 - Soma\")\n",
        "print(\"2 - Subtração\")\n",
        "print(\"3 - Multiplicação\")\n",
        "print(\"4 - Divisão\")\n",
        "\n",
        "# Recebe a escolha do usuário\n",
        "opcao = input(\"Digite o número da operação desejada (1/2/3/4): \")\n",
        "\n",
        "# Realiza a operação escolhida\n",
        "if opcao == \"1\":\n",
        "    resultado = num1 + num2\n",
        "    print(f\"A soma é: {resultado}\")\n",
        "elif opcao == \"2\":\n",
        "    resultado = num1 - num2\n",
        "    print(f\"A subtração é: {resultado}\")\n",
        "elif opcao == \"3\":\n",
        "    resultado = num1 * num2\n",
        "    print(f\"A multiplicação é: {resultado}\")\n",
        "elif opcao == \"4\":\n",
        "    if num2 != 0:\n",
        "        resultado = num1 / num2\n",
        "        print(f\"A divisão é: {resultado}\")\n",
        "    else:\n",
        "        print(\"Erro: divisão por zero não é permitida.\")\n",
        "else:\n",
        "    print(\"Operação inválida. Tente novamente.\")"
      ],
      "metadata": {
        "id": "9wJWIsMQGOhz"
      },
      "execution_count": null,
      "outputs": []
    },
    {
      "cell_type": "markdown",
      "source": [
        "18). Receba um número e diga se ele é par ou ímpar (usando %)."
      ],
      "metadata": {
        "id": "vJjEVVnfM4Zf"
      }
    },
    {
      "cell_type": "code",
      "source": [
        "num = int(input(\"Digite um numero: \"))\n",
        "if num % 2 == 0:\n",
        "    print(f\"O numero é PAR {num}\")\n",
        "else:\n",
        "    print(f\"O numero é IMPAR {num}\")"
      ],
      "metadata": {
        "colab": {
          "base_uri": "https://localhost:8080/"
        },
        "id": "_helnlCPM6bi",
        "outputId": "d77f5e80-5d2d-45ef-b11e-777bf65599fd"
      },
      "execution_count": null,
      "outputs": [
        {
          "output_type": "stream",
          "name": "stdout",
          "text": [
            "Digite um numero: 20\n",
            "O numero é PAR 20\n"
          ]
        }
      ]
    },
    {
      "cell_type": "markdown",
      "source": [
        "19). Receba 3 notas e calcule a média final\n"
      ],
      "metadata": {
        "id": "XpZaW7ZxOFhX"
      }
    },
    {
      "cell_type": "code",
      "source": [
        "nota1 = float(input(\"Digite nota 1: \"))\n",
        "nota2 = float(input(\"Digite nota 2: \"))\n",
        "nota3 = float(input(\"Digite nota 3: \"))\n",
        "media = (nota1 + nota2 + nota3) / 3\n",
        "print(f\"A média é: {media:.2f}\")"
      ],
      "metadata": {
        "colab": {
          "base_uri": "https://localhost:8080/"
        },
        "id": "_14oh6EbOJ0G",
        "outputId": "025dede4-9723-44f3-c7b2-b8bf1edada7f"
      },
      "execution_count": null,
      "outputs": [
        {
          "output_type": "stream",
          "name": "stdout",
          "text": [
            "Digite nota 1: 3.7\n",
            "Digite nota 2: 8.5\n",
            "Digite nota 3: .0\n",
            "A média é: 4.07\n"
          ]
        }
      ]
    },
    {
      "cell_type": "markdown",
      "source": [
        "20). Calcule o tempo de uma viagem dado a distância e velocidade média."
      ],
      "metadata": {
        "id": "hRAa62vVP7R-"
      }
    },
    {
      "cell_type": "code",
      "source": [
        "distancia = float(input(\"Digite a distancia da viagem em km: \"))\n",
        "velocidade = float(input(\"Digite a velocidade media em km/h: \"))\n",
        "tempo = distancia / velocidade\n",
        "print(f\"O tempo estimado da viagem é de {tempo:.2f} horas\")"
      ],
      "metadata": {
        "colab": {
          "base_uri": "https://localhost:8080/"
        },
        "id": "WJeMZda2qpq5",
        "outputId": "f5424268-e13e-44a9-c554-302f52609ada"
      },
      "execution_count": 5,
      "outputs": [
        {
          "output_type": "stream",
          "name": "stdout",
          "text": [
            "Digite a distancia da viagem em km: 145\n",
            "Digite a velocidade media em km/h: 100\n",
            "O tempo estimado da viagem é de 1.45 horas\n"
          ]
        }
      ]
    }
  ]
}