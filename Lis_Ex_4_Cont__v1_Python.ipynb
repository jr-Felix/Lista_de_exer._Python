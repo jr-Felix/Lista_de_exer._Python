{
  "nbformat": 4,
  "nbformat_minor": 0,
  "metadata": {
    "colab": {
      "provenance": [],
      "authorship_tag": "ABX9TyOBK2TqJtKNEKuXdniou9ak"
    },
    "kernelspec": {
      "name": "python3",
      "display_name": "Python 3"
    },
    "language_info": {
      "name": "python"
    }
  },
  "cells": [
    {
      "cell_type": "markdown",
      "source": [
        "4º – Lista"
      ],
      "metadata": {
        "id": "ywfTwebLgtVf"
      }
    },
    {
      "cell_type": "markdown",
      "source": [
        "Parte 2 – Print e Input (20 exercícios)"
      ],
      "metadata": {
        "id": "JJJQyD7ngxiI"
      }
    },
    {
      "cell_type": "markdown",
      "source": [
        "Focar em entrada e saída de dados com personalização de mensagens."
      ],
      "metadata": {
        "id": "UoOyQ7-pg4IH"
      }
    },
    {
      "cell_type": "code",
      "source": [
        "# 11). Peça um número, converta para inteiro e exiba o dobro.\n",
        "num = int(input(\"Digite um numero: \"))\n",
        "print(f\"O dobro do numero é {num * 2}\")"
      ],
      "metadata": {
        "colab": {
          "base_uri": "https://localhost:8080/"
        },
        "id": "jk1-bOUlSTm_",
        "outputId": "9c1c832e-a97a-4eef-b48a-182d1df90131"
      },
      "execution_count": null,
      "outputs": [
        {
          "output_type": "stream",
          "name": "stdout",
          "text": [
            "Digite um numero: 25\n",
            "O dobro do numero é 50\n"
          ]
        }
      ]
    },
    {
      "cell_type": "code",
      "source": [
        "# 12). Peça um número decimal, converta e exiba o triplo.\n",
        "num = float(input(\"Digite um numero: \"))\n",
        "print(f\"O triplo do numero é {num * 3}\")"
      ],
      "metadata": {
        "colab": {
          "base_uri": "https://localhost:8080/"
        },
        "id": "HkhiVEoZSvJX",
        "outputId": "faabd990-4df1-4289-9fc3-acd58efb6d9f"
      },
      "execution_count": null,
      "outputs": [
        {
          "output_type": "stream",
          "name": "stdout",
          "text": [
            "Digite um numero: 20\n",
            "O triplo do numero é 60.0\n"
          ]
        }
      ]
    },
    {
      "cell_type": "code",
      "source": [
        "# 13). Mostre no print quantas letras tem o nome do usuário.\n",
        "usuario = input(\"Qual é o seu nome: \")\n",
        "print(f\"Seu nome tem {(len(usuario))}\")"
      ],
      "metadata": {
        "colab": {
          "base_uri": "https://localhost:8080/"
        },
        "id": "Y9DvQELjTFqe",
        "outputId": "4ceeedbb-a95f-48e6-8d0a-c51b7d1e0204"
      },
      "execution_count": null,
      "outputs": [
        {
          "output_type": "stream",
          "name": "stdout",
          "text": [
            "Qual é o seu nome: Felix\n",
            "Seu nome tem 5\n"
          ]
        }
      ]
    },
    {
      "cell_type": "code",
      "source": [
        "# 14). Crie um print que utilize f-string com nome e idade.\n",
        "nome = input(\"Digite seu nome: \")\n",
        "idade = input(\"Digite sua idade: \")\n",
        "print(f\"Olá, {nome}! voce tem {idade} anos.\")"
      ],
      "metadata": {
        "colab": {
          "base_uri": "https://localhost:8080/"
        },
        "id": "PFV1Ddo5U6Qs",
        "outputId": "406607d6-b5bc-43ee-bcf1-d9a3a960eeac"
      },
      "execution_count": null,
      "outputs": [
        {
          "output_type": "stream",
          "name": "stdout",
          "text": [
            "Digite seu nome: Felix\n",
            "Digite sua idade: 35\n",
            "Olá, Felix! voce tem 35 anos.\n"
          ]
        }
      ]
    },
    {
      "cell_type": "code",
      "source": [
        "# 15). Receba uma frase e mostre a mesma em minúsculas.\n",
        "frase = input(\"Digite uma frase: \")\n",
        "print(frase.lower())"
      ],
      "metadata": {
        "colab": {
          "base_uri": "https://localhost:8080/"
        },
        "id": "wAotpaLSWZoI",
        "outputId": "2681ba86-fd79-4b73-b7a2-7c0ede037818"
      },
      "execution_count": null,
      "outputs": [
        {
          "output_type": "stream",
          "name": "stdout",
          "text": [
            "Digite uma frase: PINDAMONHANGABA\n",
            "pindamonhangaba\n"
          ]
        }
      ]
    },
    {
      "cell_type": "code",
      "source": [
        " # 16). Receba um número e imprima o tipo dele.\n",
        " numero = 20\n",
        " print(type(numero))"
      ],
      "metadata": {
        "colab": {
          "base_uri": "https://localhost:8080/"
        },
        "id": "B8swj-6iX69V",
        "outputId": "97a04eee-8e96-4d0b-b05d-b9c867cc2284"
      },
      "execution_count": null,
      "outputs": [
        {
          "output_type": "stream",
          "name": "stdout",
          "text": [
            "Digite um numero: 43\n",
            "<class 'int'>\n"
          ]
        }
      ]
    },
    {
      "cell_type": "code",
      "source": [
        "# 17). Use input() para pedir a comida favorita do usuário e elogie.\n",
        "refeicao = input(\"Qual a sua comida favorita: \")\n",
        "print(f\"Ótima escolha! {refeicao} é deliciosa! \")\n"
      ],
      "metadata": {
        "id": "x0KSOxShYPmM",
        "colab": {
          "base_uri": "https://localhost:8080/"
        },
        "outputId": "fab19e27-dea7-44a8-e22b-911a25220a5a"
      },
      "execution_count": null,
      "outputs": [
        {
          "output_type": "stream",
          "name": "stdout",
          "text": [
            "Qual a sua comida favorita: churrasco\n",
            "Ótima escolha! churrasco é deliciosa! \n"
          ]
        }
      ]
    },
    {
      "cell_type": "code",
      "source": [
        "# 18). Receba o nome completo e exiba o primeiro nome isolado.\n",
        "nome_completo = input(\"Digite seu nome completo: \")\n",
        "primeiro_nome = nome_completo.split()[0]\n",
        "print(f\"Seu primeiro nome é: {primeiro_nome}\")"
      ],
      "metadata": {
        "colab": {
          "base_uri": "https://localhost:8080/"
        },
        "id": "o-0-2x9UkenY",
        "outputId": "bf2f8fa4-9248-4401-82e0-135b970c00cf"
      },
      "execution_count": null,
      "outputs": [
        {
          "output_type": "stream",
          "name": "stdout",
          "text": [
            "Digite seu nome completo: Abreu de Assis\n",
            "Seu primeiro nome é: Abreu\n"
          ]
        }
      ]
    },
    {
      "cell_type": "code",
      "source": [
        "# 19). Crie uma frase que combine 2 inputs diferentes.\n",
        "nome = input(\"Digite um nome: \")\n",
        "cidade = input(\"Digite uma cidade: \")\n",
        "print(f\"Olá, {nome} voce reside nesta {cidade}.\")"
      ],
      "metadata": {
        "colab": {
          "base_uri": "https://localhost:8080/"
        },
        "id": "CQIhySnQk40a",
        "outputId": "8681d4a0-dab7-4c82-e5b8-c91d7de7440c"
      },
      "execution_count": null,
      "outputs": [
        {
          "output_type": "stream",
          "name": "stdout",
          "text": [
            "Digite um nome: Guilherme\n",
            "Digite uma cidade: Sao Paulo\n",
            "Olá, Guilherme voce reside nesta Sao Paulo.\n"
          ]
        }
      ]
    },
    {
      "cell_type": "code",
      "source": [
        "# 20). Mostre uma frase com quebra de linha no meio do print.\n",
        "print(\"Olá, tudo bem?\\nSeja bem-vindo ao nosso programa!\")"
      ],
      "metadata": {
        "colab": {
          "base_uri": "https://localhost:8080/"
        },
        "id": "8WC6e8ful_by",
        "outputId": "d7703aa1-5708-4bdd-dc7a-028321303b67"
      },
      "execution_count": null,
      "outputs": [
        {
          "output_type": "stream",
          "name": "stdout",
          "text": [
            "Olá, tudo bem?\n",
            "Seja bem-vindo ao nosso programa!\n"
          ]
        }
      ]
    }
  ]
}